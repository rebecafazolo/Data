{
  "nbformat": 4,
  "nbformat_minor": 0,
  "metadata": {
    "colab": {
      "private_outputs": true,
      "provenance": [],
      "mount_file_id": "1BotDbdHMq49fKcPRQGof_enuaWuiJYvW",
      "authorship_tag": "ABX9TyNFQbPu3h2lU7G3cDOA5YHO"
    },
    "kernelspec": {
      "name": "python3",
      "display_name": "Python 3"
    },
    "language_info": {
      "name": "python"
    }
  },
  "cells": [
    {
      "cell_type": "markdown",
      "source": [
        "#### Anotações para execução"
      ],
      "metadata": {
        "id": "ppNg8AY7xSWe"
      }
    },
    {
      "cell_type": "code",
      "source": [
        "\"\"\"\n",
        "big number = tempo médio envio\n",
        "\"\"\""
      ],
      "metadata": {
        "id": "fKgHrb3LxWfY"
      },
      "execution_count": null,
      "outputs": []
    },
    {
      "cell_type": "markdown",
      "source": [
        "####Configurações iniciais"
      ],
      "metadata": {
        "id": "Z9sLT0KEczd7"
      }
    },
    {
      "cell_type": "code",
      "source": [
        "from pyspark.sql import SparkSession\n",
        "from pyspark.sql.functions import *"
      ],
      "metadata": {
        "id": "bCsiugGgtgWA"
      },
      "execution_count": null,
      "outputs": []
    },
    {
      "cell_type": "code",
      "source": [
        "spark = SparkSession.builder.getOrCreate()"
      ],
      "metadata": {
        "id": "ub56PV5_thKw"
      },
      "execution_count": null,
      "outputs": []
    },
    {
      "cell_type": "markdown",
      "source": [
        "####Transformation"
      ],
      "metadata": {
        "id": "oihkLZsctjTE"
      }
    },
    {
      "cell_type": "code",
      "source": [
        "df = spark.read.csv('/content/drive/MyDrive/arquivos_colab/Sample - Superstore.csv', header=True)\n",
        "df.limit(5).toPandas()"
      ],
      "metadata": {
        "id": "dv_7DF75ttq8"
      },
      "execution_count": null,
      "outputs": []
    },
    {
      "cell_type": "code",
      "source": [],
      "metadata": {
        "id": "uxgge0czygV1"
      },
      "execution_count": null,
      "outputs": []
    },
    {
      "cell_type": "code",
      "source": [
        "df = df.withColumn('Ship Date', to_date('Ship Date', 'M/d/yyyy'))\n",
        "df = df.withColumn('Order Date', to_date('Order Date', 'M/d/yyyy'))\n",
        "\n",
        "df.select('Ship Date', 'Order Date').limit(5).toPandas()"
      ],
      "metadata": {
        "id": "NySQ6Ky2wJnA"
      },
      "execution_count": null,
      "outputs": []
    },
    {
      "cell_type": "code",
      "source": [
        "df = df.withColumn('time_ship_days', datediff('Ship Date','Order Date'))\n",
        "\n",
        "df.select('time_ship_days').limit(5).toPandas()"
      ],
      "metadata": {
        "id": "AUPpZzVQtw6X"
      },
      "execution_count": null,
      "outputs": []
    },
    {
      "cell_type": "code",
      "source": [
        "df = df.withColumn('unit_price', round((col('Sales')/col('Quantity')),2))\n",
        "\n",
        "df.select('unit_price').limit(5).toPandas()"
      ],
      "metadata": {
        "id": "zfbZMzpx09Ye"
      },
      "execution_count": null,
      "outputs": []
    },
    {
      "cell_type": "code",
      "source": [
        "df = df.withColumn('price_n_discont',\n",
        "                   round((((col('Sales')/col('Quantity')) / (1- col('Discount')))),2))\n",
        "\n",
        "df.select('Quantity', 'unit_price', 'price_n_discont' , 'Discount').limit(5).toPandas()"
      ],
      "metadata": {
        "id": "-f0x1pBX3KeI"
      },
      "execution_count": null,
      "outputs": []
    },
    {
      "cell_type": "code",
      "source": [
        "df = df.withColumn('product_cost',\n",
        "                   col('unit_price') - (col('Profit') / col('Quantity')))\n",
        "\n",
        "df.select('product_cost', 'unit_price','price_n_discont',  'Profit', 'Quantity').limit(5).toPandas()"
      ],
      "metadata": {
        "id": "qroNVWgk44IL"
      },
      "execution_count": null,
      "outputs": []
    },
    {
      "cell_type": "code",
      "source": [
        "df = df.withColumn('profit_unit',\n",
        "                  col('Profit') / col('Quantity'))\n",
        "\n",
        "df.select('profit_unit','product_cost', 'unit_price','price_n_discont',  'Profit', 'Quantity').limit(5).toPandas()"
      ],
      "metadata": {
        "id": "Ugkc2E4p7bV_"
      },
      "execution_count": null,
      "outputs": []
    },
    {
      "cell_type": "code",
      "source": [
        "df.write.csv('/content/drive/MyDrive/arquivos_colab/superstore_data_transformed.csv',header=True, mode = \"overwrite\")"
      ],
      "metadata": {
        "id": "sa-ApEgZ8zA4"
      },
      "execution_count": null,
      "outputs": []
    }
  ]
}