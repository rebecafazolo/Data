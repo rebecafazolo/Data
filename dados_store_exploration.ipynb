{
  "nbformat": 4,
  "nbformat_minor": 0,
  "metadata": {
    "colab": {
      "private_outputs": true,
      "provenance": [],
      "authorship_tag": "ABX9TyOIrqaKO5xiP2yZ2xcUKe9N"
    },
    "kernelspec": {
      "name": "python3",
      "display_name": "Python 3"
    },
    "language_info": {
      "name": "python"
    }
  },
  "cells": [
    {
      "cell_type": "markdown",
      "source": [
        "####Configurações iniciais"
      ],
      "metadata": {
        "id": "Z9sLT0KEczd7"
      }
    },
    {
      "cell_type": "code",
      "execution_count": null,
      "metadata": {
        "id": "v8_A5jeSLz8_"
      },
      "outputs": [],
      "source": [
        "from pyspark.sql import SparkSession\n",
        "from pyspark.sql.functions import *"
      ]
    },
    {
      "cell_type": "code",
      "source": [
        "spark = SparkSession.builder.getOrCreate()"
      ],
      "metadata": {
        "id": "4kwozfUXaDsJ"
      },
      "execution_count": null,
      "outputs": []
    },
    {
      "cell_type": "markdown",
      "source": [
        "###Leitura e Exploração"
      ],
      "metadata": {
        "id": "BzqCvosNcpK8"
      }
    },
    {
      "cell_type": "code",
      "source": [
        "df = spark.read.csv('/content/drive/MyDrive/arquivos_colab/Sample - Superstore.csv', header=True)\n",
        "df.limit(5).toPandas()"
      ],
      "metadata": {
        "id": "GFFPHa4oaKoc"
      },
      "execution_count": null,
      "outputs": []
    },
    {
      "cell_type": "code",
      "source": [
        "df.printSchema()"
      ],
      "metadata": {
        "id": "yYCW2ZGFcIe1"
      },
      "execution_count": null,
      "outputs": []
    },
    {
      "cell_type": "code",
      "source": [
        "for c in df.columns:\n",
        "  print(c, df.filter(df[c].isNull()).count())"
      ],
      "metadata": {
        "id": "bdFSzMOkadNs"
      },
      "execution_count": null,
      "outputs": []
    },
    {
      "cell_type": "code",
      "source": [
        "count_rows = df.count()\n",
        "count_region = df.select('Region').distinct().count()\n",
        "count_country = df.select('Country').distinct().count()\n",
        "count_city = df.select('City').distinct().count()\n",
        "count_product = df.select('Product Name').distinct().count()\n",
        "count_category = df.select('Category').distinct().count()\n",
        "count_subcategory = df.select('Sub-Category').distinct().count()\n",
        "count_client = df.select('Customer Name').distinct().count()\n",
        "count_client_segment = df.select('segment').distinct().count()\n",
        "\n",
        "distinct_region = [row['Region'] for row in df.select('Region').distinct().collect()]\n",
        "distinct_country = [row['Country'] for row in df.select('Country').distinct().collect()]\n",
        "distinct_city = [row['City'] for row in df.select('City').distinct().collect()]\n",
        "distinct_product = [row['Product Name'] for row in df.select('Product Name').distinct().collect()]\n",
        "distinct_category = [row['Category'] for row in df.select('Category').distinct().collect()]\n",
        "distinct_subcategory = [row['Sub-Category'] for row in df.select('Sub-Category').distinct().collect()]\n",
        "distinct_client = [row['Customer Name'] for row in df.select('Customer Name').distinct().collect()]\n",
        "distinct_client_segment = [row['Segment'] for row in df.select('Segment').distinct().collect()]\n",
        "\n",
        "print(f\"rows: {count_rows}\"\n",
        "      f\"\\nregions: {count_region} ({', '.join(distinct_region)})\"\n",
        "      f\"\\ncountry: {count_country} ({', '.join(distinct_country)})\"\n",
        "      f\"\\ncity: {count_city}\"\n",
        "      f\"\\nproduct: {count_product}\"\n",
        "      f\"\\ncategory: {count_category} ({', '.join(distinct_category)})\"\n",
        "      f\"\\nsub category: {count_subcategory}\"\n",
        "      f\"\\nclients: {count_client}\"\n",
        "      f\"\\nclients segments: {count_client_segment} ({', '.join(distinct_client_segment)})\"\n",
        "     )"
      ],
      "metadata": {
        "id": "VDF4RBKwaaVB"
      },
      "execution_count": null,
      "outputs": []
    },
    {
      "cell_type": "code",
      "source": [
        "print(',\\n'.join(distinct_subcategory))"
      ],
      "metadata": {
        "id": "Eua2Fr9DsNVI"
      },
      "execution_count": null,
      "outputs": []
    },
    {
      "cell_type": "code",
      "source": [
        "visu_qtd_sale = df.filter(col('Product Name') == 'Bush Somerset Collection Bookcase'\n",
        "         ).select(col('Product Name'),col('Quantity'), col('Sales'))\n",
        "\n",
        "visu_qtd_sale.toPandas()"
      ],
      "metadata": {
        "id": "EFj06YSWyiwj"
      },
      "execution_count": null,
      "outputs": []
    }
  ]
}