{
 "cells": [
  {
   "cell_type": "code",
   "execution_count": 34,
   "id": "c5a0e149-f608-4edf-b318-cb105139aec5",
   "metadata": {},
   "outputs": [],
   "source": [
    "#importar bibliotecas\n",
    "\n",
    "import pandas as pd\n",
    "import seaborn as sns\n",
    "import matplotlib.pyplot as plt\n",
    "import numpy as np\n"
   ]
  },
  {
   "cell_type": "code",
   "execution_count": 4,
   "id": "bed8c73e-9548-4c2a-938e-0d0884828eb9",
   "metadata": {},
   "outputs": [
    {
     "data": {
      "text/html": [
       "<div>\n",
       "<style scoped>\n",
       "    .dataframe tbody tr th:only-of-type {\n",
       "        vertical-align: middle;\n",
       "    }\n",
       "\n",
       "    .dataframe tbody tr th {\n",
       "        vertical-align: top;\n",
       "    }\n",
       "\n",
       "    .dataframe thead th {\n",
       "        text-align: right;\n",
       "    }\n",
       "</style>\n",
       "<table border=\"1\" class=\"dataframe\">\n",
       "  <thead>\n",
       "    <tr style=\"text-align: right;\">\n",
       "      <th></th>\n",
       "      <th>sale_id</th>\n",
       "      <th>branch</th>\n",
       "      <th>city</th>\n",
       "      <th>customer_type</th>\n",
       "      <th>gender</th>\n",
       "      <th>product_name</th>\n",
       "      <th>product_category</th>\n",
       "      <th>unit_price</th>\n",
       "      <th>quantity</th>\n",
       "      <th>tax</th>\n",
       "      <th>total_price</th>\n",
       "      <th>reward_points</th>\n",
       "    </tr>\n",
       "  </thead>\n",
       "  <tbody>\n",
       "    <tr>\n",
       "      <th>0</th>\n",
       "      <td>1</td>\n",
       "      <td>A</td>\n",
       "      <td>New York</td>\n",
       "      <td>Member</td>\n",
       "      <td>Male</td>\n",
       "      <td>Shampoo</td>\n",
       "      <td>Personal Care</td>\n",
       "      <td>5.50</td>\n",
       "      <td>3</td>\n",
       "      <td>1.16</td>\n",
       "      <td>17.66</td>\n",
       "      <td>1</td>\n",
       "    </tr>\n",
       "    <tr>\n",
       "      <th>1</th>\n",
       "      <td>2</td>\n",
       "      <td>B</td>\n",
       "      <td>Los Angeles</td>\n",
       "      <td>Normal</td>\n",
       "      <td>Female</td>\n",
       "      <td>Notebook</td>\n",
       "      <td>Stationery</td>\n",
       "      <td>2.75</td>\n",
       "      <td>10</td>\n",
       "      <td>1.93</td>\n",
       "      <td>29.43</td>\n",
       "      <td>0</td>\n",
       "    </tr>\n",
       "    <tr>\n",
       "      <th>2</th>\n",
       "      <td>3</td>\n",
       "      <td>A</td>\n",
       "      <td>New York</td>\n",
       "      <td>Member</td>\n",
       "      <td>Female</td>\n",
       "      <td>Apple</td>\n",
       "      <td>Fruits</td>\n",
       "      <td>1.20</td>\n",
       "      <td>15</td>\n",
       "      <td>1.26</td>\n",
       "      <td>19.26</td>\n",
       "      <td>1</td>\n",
       "    </tr>\n",
       "    <tr>\n",
       "      <th>3</th>\n",
       "      <td>4</td>\n",
       "      <td>A</td>\n",
       "      <td>Chicago</td>\n",
       "      <td>Normal</td>\n",
       "      <td>Male</td>\n",
       "      <td>Detergent</td>\n",
       "      <td>Household</td>\n",
       "      <td>7.80</td>\n",
       "      <td>5</td>\n",
       "      <td>2.73</td>\n",
       "      <td>41.73</td>\n",
       "      <td>0</td>\n",
       "    </tr>\n",
       "    <tr>\n",
       "      <th>4</th>\n",
       "      <td>5</td>\n",
       "      <td>B</td>\n",
       "      <td>Los Angeles</td>\n",
       "      <td>Member</td>\n",
       "      <td>Female</td>\n",
       "      <td>Orange Juice</td>\n",
       "      <td>Beverages</td>\n",
       "      <td>3.50</td>\n",
       "      <td>7</td>\n",
       "      <td>1.72</td>\n",
       "      <td>26.22</td>\n",
       "      <td>2</td>\n",
       "    </tr>\n",
       "    <tr>\n",
       "      <th>5</th>\n",
       "      <td>6</td>\n",
       "      <td>A</td>\n",
       "      <td>Chicago</td>\n",
       "      <td>Normal</td>\n",
       "      <td>Male</td>\n",
       "      <td>Shampoo</td>\n",
       "      <td>Stationery</td>\n",
       "      <td>11.24</td>\n",
       "      <td>9</td>\n",
       "      <td>7.08</td>\n",
       "      <td>108.24</td>\n",
       "      <td>0</td>\n",
       "    </tr>\n",
       "  </tbody>\n",
       "</table>\n",
       "</div>"
      ],
      "text/plain": [
       "   sale_id branch         city customer_type  gender  product_name  \\\n",
       "0        1      A     New York        Member    Male       Shampoo   \n",
       "1        2      B  Los Angeles        Normal  Female      Notebook   \n",
       "2        3      A     New York        Member  Female         Apple   \n",
       "3        4      A      Chicago        Normal    Male     Detergent   \n",
       "4        5      B  Los Angeles        Member  Female  Orange Juice   \n",
       "5        6      A      Chicago        Normal    Male       Shampoo   \n",
       "\n",
       "  product_category  unit_price  quantity   tax  total_price  reward_points  \n",
       "0    Personal Care        5.50         3  1.16        17.66              1  \n",
       "1       Stationery        2.75        10  1.93        29.43              0  \n",
       "2           Fruits        1.20        15  1.26        19.26              1  \n",
       "3        Household        7.80         5  2.73        41.73              0  \n",
       "4        Beverages        3.50         7  1.72        26.22              2  \n",
       "5       Stationery       11.24         9  7.08       108.24              0  "
      ]
     },
     "execution_count": 4,
     "metadata": {},
     "output_type": "execute_result"
    }
   ],
   "source": [
    "#ler o arquivo e primeira exibição\n",
    "\n",
    "dp = pd.read_csv (r\"D:\\Estudo\\Banco de dados\\sales.csv\")\n",
    "\n",
    "dp.head(6)"
   ]
  },
  {
   "cell_type": "code",
   "execution_count": 10,
   "id": "2253cc71-9c68-4b23-a7b5-2f890c921af2",
   "metadata": {},
   "outputs": [
    {
     "data": {
      "text/plain": [
       "(1000, 12)"
      ]
     },
     "execution_count": 10,
     "metadata": {},
     "output_type": "execute_result"
    }
   ],
   "source": [
    "dp.shape"
   ]
  },
  {
   "cell_type": "code",
   "execution_count": 7,
   "id": "6646bdab-d154-4af8-8e06-5399599061bf",
   "metadata": {},
   "outputs": [
    {
     "data": {
      "text/plain": [
       "city\n",
       "Chicago        330\n",
       "Los Angeles    326\n",
       "New York       344\n",
       "dtype: int64"
      ]
     },
     "execution_count": 7,
     "metadata": {},
     "output_type": "execute_result"
    }
   ],
   "source": [
    "agrupado = dp.groupby(['city']).size()\n",
    "agrupado"
   ]
  },
  {
   "cell_type": "code",
   "execution_count": 8,
   "id": "30ddfddc-9b03-44ff-bab7-fd30faaccfd0",
   "metadata": {},
   "outputs": [
    {
     "data": {
      "text/plain": [
       "gender\n",
       "Female    472\n",
       "Male      528\n",
       "dtype: int64"
      ]
     },
     "execution_count": 8,
     "metadata": {},
     "output_type": "execute_result"
    }
   ],
   "source": [
    "agrupado = dp.groupby(['gender']).size()\n",
    "agrupado"
   ]
  },
  {
   "cell_type": "code",
   "execution_count": 9,
   "id": "d3a4560f-61dc-4035-abba-d7cf5276301b",
   "metadata": {},
   "outputs": [
    {
     "data": {
      "text/plain": [
       "product_name\n",
       "Apple           185\n",
       "Detergent       189\n",
       "Notebook        194\n",
       "Orange Juice    208\n",
       "Shampoo         224\n",
       "dtype: int64"
      ]
     },
     "execution_count": 9,
     "metadata": {},
     "output_type": "execute_result"
    }
   ],
   "source": [
    "agrupado = dp.groupby(['product_name']).size()\n",
    "agrupado"
   ]
  },
  {
   "cell_type": "code",
   "execution_count": 11,
   "id": "3d325a9c-1c14-46ec-a9d9-3ab83a86bacb",
   "metadata": {},
   "outputs": [
    {
     "data": {
      "text/plain": [
       "product_category\n",
       "Beverages        187\n",
       "Fruits           209\n",
       "Household        198\n",
       "Personal Care    208\n",
       "Stationery       198\n",
       "dtype: int64"
      ]
     },
     "execution_count": 11,
     "metadata": {},
     "output_type": "execute_result"
    }
   ],
   "source": [
    "agrupado = dp.groupby(['product_category']).size()\n",
    "agrupado"
   ]
  },
  {
   "cell_type": "code",
   "execution_count": 56,
   "id": "0c9ffdd9-f36e-45f2-bb60-a07d5e356bf6",
   "metadata": {},
   "outputs": [
    {
     "data": {
      "text/plain": [
       "city\n",
       "Chicago        11.060970\n",
       "Los Angeles    10.265092\n",
       "New York       11.161541\n",
       "Name: unit_price, dtype: float64"
      ]
     },
     "execution_count": 56,
     "metadata": {},
     "output_type": "execute_result"
    }
   ],
   "source": [
    "agrupado = dp.groupby(['city'])['unit_price'].mean()\n",
    "agrupado"
   ]
  },
  {
   "cell_type": "code",
   "execution_count": 57,
   "id": "e5b56717-2d74-4ed7-9ef0-1110e127b787",
   "metadata": {},
   "outputs": [],
   "source": [
    "# Filtra apenas os dados\n",
    "produto_apple = dp[dp['product_name'] == 'Apple']\n",
    "produto_detergent = dp[dp['product_name'] == 'Detergent']\n",
    "produto_notebook = dp[dp['product_name'] == 'Notebook']\n",
    "produto_juice = dp[dp['product_name'] == 'Orange Juice']\n",
    "produto_shampoo = dp[dp['product_name'] == 'Shampoo']\n",
    "\n",
    "# Agrupa por cidade e calcula o preço médio\n",
    "mediaA = produto_apple.groupby('city')['unit_price'].mean().round(2)\n",
    "mediaD = produto_detergent.groupby('city')['unit_price'].mean().round(2)\n",
    "mediaN = produto_notebook.groupby('city')['unit_price'].mean().round(2)\n",
    "mediaJ = produto_juice.groupby('city')['unit_price'].mean().round(2)\n",
    "mediaS = produto_shampoo.groupby('city')['unit_price'].mean().round(2)\n"
   ]
  },
  {
   "cell_type": "code",
   "execution_count": 58,
   "id": "089695d8-2067-4c67-89ff-b87a14212795",
   "metadata": {},
   "outputs": [
    {
     "data": {
      "image/png": "[encoded data removed]",
      "text/plain": [
       "<Figure size 640x480 with 6 Axes>"
      ]
     },
     "metadata": {},
     "output_type": "display_data"
    }
   ],
   "source": [
    "plt.figure(1)\n",
    "\n",
    "#media preço Apple\n",
    "plt.subplot(2,3,1)\n",
    "sns.barplot(mediaA, color = 'pink')\n",
    "plt.xticks(rotation=45)\n",
    "plt.title(\"Apple\")\n",
    "plt.ylabel(\"Preço\")\n",
    "plt.xlabel(\"Cidade\")\n",
    "\n",
    "#media preço detergent\n",
    "plt.subplot(2,3,2)\n",
    "sns.barplot(mediaD, color = 'pink')\n",
    "plt.xticks(rotation=45)\n",
    "plt.title(\"Detergent\")\n",
    "plt.ylabel(\"Preço\")\n",
    "plt.xlabel(\"Cidade\")\n",
    "\n",
    "#media preço notebook\n",
    "plt.subplot(2,3,3)\n",
    "sns.barplot(mediaN, color = 'pink')\n",
    "plt.xticks(rotation=45)\n",
    "plt.title(\"Notebook\")\n",
    "plt.ylabel(\"Preço\")\n",
    "plt.xlabel(\"Cidade\")\n",
    "\n",
    "#media preço juice\n",
    "plt.subplot(2,3,4)\n",
    "sns.barplot(mediaJ, color = 'pink')\n",
    "plt.xticks(rotation=45)\n",
    "plt.title(\"Juice\")\n",
    "plt.ylabel(\"Preço\")\n",
    "plt.xlabel(\"Cidade\")\n",
    "\n",
    "#media preço shampoo\n",
    "plt.subplot(2,3,5)\n",
    "sns.barplot(mediaS, color = 'pink')\n",
    "plt.xticks(rotation=45)\n",
    "plt.title(\"Shampoo\")\n",
    "plt.ylabel(\"Preço\")\n",
    "plt.xlabel(\"Cidade\")\n",
    "\n",
    "#media total\n",
    "plt.subplot(2,3,6)\n",
    "sns.barplot(agrupado, color = 'pink')\n",
    "plt.xticks(rotation=45)\n",
    "plt.title(\"Total Médio\")\n",
    "plt.ylabel(\"Preço\")\n",
    "plt.xlabel(\"Cidade\")\n",
    "\n",
    "\n",
    "plt.tight_layout()\n",
    "\n",
    "plt.show()"
   ]
  },
  {
   "cell_type": "code",
   "execution_count": null,
   "id": "dabee893-f67a-4351-97a1-4ad5fada4833",
   "metadata": {},
   "outputs": [],
   "source": []
  }
 ],
 "metadata": {
  "kernelspec": {
   "display_name": "Python 3 (ipykernel)",
   "language": "python",
   "name": "python3"
  },
  "language_info": {
   "codemirror_mode": {
    "name": "ipython",
    "version": 3
   },
   "file_extension": ".py",
   "mimetype": "text/x-python",
   "name": "python",
   "nbconvert_exporter": "python",
   "pygments_lexer": "ipython3",
   "version": "3.12.5"
  }
 },
 "nbformat": 4,
 "nbformat_minor": 5
}
